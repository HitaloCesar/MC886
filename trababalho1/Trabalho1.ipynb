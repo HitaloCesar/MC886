{
  "nbformat": 4,
  "nbformat_minor": 0,
  "metadata": {
    "colab": {
      "name": "Trabalho1.ipynb",
      "provenance": [],
      "collapsed_sections": [
        "4B2wjEX8zjqv",
        "ieJ3ZUSw4Zmx",
        "uQhK_zZF7zxS",
        "RJDIQTg3IbyN",
        "zzS-joq4xaA8",
        "OWO288LhrojL",
        "Ss6ZVqHLrOLA",
        "W-N-WsEHryeJ",
        "pE9Qv3UK6alJ",
        "rrzTUdLm09KJ",
        "wIQNTXZnElkV",
        "k3jV5s8rF5Xv",
        "VpXowruoG97A",
        "bDk9CfSVkeAe",
        "oOGvkalyWFi1",
        "00Oas1S6bvsE",
        "yS4cGq7FdCVH",
        "zdbhygt9gnfr",
        "FGaJkqL6gvr1",
        "OKe3AM-ug07f",
        "BoIWJYfTg6Zi"
      ],
      "toc_visible": true
    },
    "kernelspec": {
      "name": "python3",
      "display_name": "Python 3"
    },
    "language_info": {
      "name": "python"
    }
  },
  "cells": [
    {
      "cell_type": "markdown",
      "metadata": {
        "id": "jcZJGKIiIUjU"
      },
      "source": [
        "#MC886 - Trabalho 1 \n",
        "RA217555 Gustavo Praciano Barros\n",
        "RA217878 Hitalo Cesar Alves"
      ]
    },
    {
      "cell_type": "markdown",
      "metadata": {
        "id": "4B2wjEX8zjqv"
      },
      "source": [
        "##Funções auxiliares"
      ]
    },
    {
      "cell_type": "code",
      "metadata": {
        "id": "WZP2zBdmN0YJ"
      },
      "source": [
        "import numpy as np\n",
        "import random\n",
        "import matplotlib.pyplot as plt\n",
        "import copy"
      ],
      "execution_count": 219,
      "outputs": []
    },
    {
      "cell_type": "code",
      "metadata": {
        "id": "uFWVqjHoNoix"
      },
      "source": [
        "def dist(p1, p2):\n",
        "    sum=0\n",
        "    for i in range(len(p1)):\n",
        "        sum+=(p1[i]-p2[i])**2\n",
        "    return sum**0.5"
      ],
      "execution_count": 220,
      "outputs": []
    },
    {
      "cell_type": "code",
      "metadata": {
        "id": "jQ6m3UcqeKiT"
      },
      "source": [
        "def normalize(data):\n",
        "    dataN = []\n",
        "    maxArray = []\n",
        "    for i in range(len(data[0])):\n",
        "      dataN.append([j[i] for j in data])\n",
        "    dataN = np.array(dataN)\n",
        "    dataN.astype(float)\n",
        "    for i in range(len(dataN)):\n",
        "      maxArray.append(max(abs(max(dataN[i])), abs(min(dataN[i]))))\n",
        "      dataN[i] = dataN[i]/maxArray[i]\n",
        "\n",
        "    return dataN.transpose(), np.array(maxArray) "
      ],
      "execution_count": 221,
      "outputs": []
    },
    {
      "cell_type": "code",
      "metadata": {
        "id": "nD3IChrmY32T"
      },
      "source": [
        "def unnormalize(dataNormalized, maxAxis):\n",
        "    dataNormalized = np.array(dataNormalized)\n",
        "    for i in range(len(dataNormalized)):\n",
        "        dataNormalized[i] = dataNormalized[i] * maxAxis\n",
        "    return dataNormalized"
      ],
      "execution_count": 222,
      "outputs": []
    },
    {
      "cell_type": "code",
      "metadata": {
        "id": "_o8lkfhEYjpd"
      },
      "source": [
        "def plotClusters(clusters):\n",
        "    k = len(clusters)\n",
        "    cores = ['red','green','blue','black','brown', 'pink']\n",
        "    for i in range(0,k):\n",
        "        x = np.array([j[0] for j in clusters[i]])\n",
        "        y = np.array([j[1] for j in clusters[i]])\n",
        "        plt.scatter(x, y, c=cores[i])"
      ],
      "execution_count": 223,
      "outputs": []
    },
    {
      "cell_type": "code",
      "metadata": {
        "id": "SjeWc_JN1C3k"
      },
      "source": [
        "def data_part(data, treino, teste):\n",
        "  data = np.random.permutation(data)\n",
        "  tr = data[:int(len(data)*treino)]\n",
        "  te = data[int(len(data)*treino):len(data)]\n",
        "  return tr, te\n",
        "   \n"
      ],
      "execution_count": 224,
      "outputs": []
    },
    {
      "cell_type": "markdown",
      "metadata": {
        "id": "ieJ3ZUSw4Zmx"
      },
      "source": [
        "##Leitura dos dados, normalização e separação conjunto de treinamento e de testes"
      ]
    },
    {
      "cell_type": "markdown",
      "metadata": {
        "id": "cx7MYihv7qfI"
      },
      "source": [
        "###Dados enunciado"
      ]
    },
    {
      "cell_type": "code",
      "metadata": {
        "id": "P1KS_cyxbp8s"
      },
      "source": [
        "def read_data_enun():\n",
        "  datContent = np.array([i.strip().split() for i in open(\"./cluster.dat\").readlines()])\n",
        "  datContent = datContent.astype(np.float)\n",
        "  return datContent"
      ],
      "execution_count": 225,
      "outputs": []
    },
    {
      "cell_type": "code",
      "metadata": {
        "id": "_qHyGSAqUMnc"
      },
      "source": [
        "datContent_normalized, maxAxis_enun = normalize(read_data_enun())\n",
        "data_training_enun,data_test_enun = data_part(datContent_normalized, 0.9,0.1)"
      ],
      "execution_count": 226,
      "outputs": []
    },
    {
      "cell_type": "markdown",
      "metadata": {
        "id": "uQhK_zZF7zxS"
      },
      "source": [
        "###Dados dataset escolhido\n",
        "\n",
        "  O dataset escolhido para realizar o trabalho é um dataset com informações referentes ao uso de cartões de créditos de 9000 pessoas no intervalo de 6 meses. Pensando nisso, queremos clusterizar as pessoas de acordo com seu uso de cartão. \n",
        "  No dataSet tem 18 features, entretanto optamos em escolher 9 features que são mais impactantes na clusterização. Ademais, tivemos que limpar alguns dados que estavam incompletos. Caso tenha interesse na fonte dados, segue o link abaixo.\n",
        "   https://www.kaggle.com/arjunbhasin2013/ccdata\n",
        "  Esse código a seguir, tem como intuito simplesmente ler o csv e colocar na lista de dados."
      ]
    },
    {
      "cell_type": "code",
      "metadata": {
        "id": "Pj2uFFhdJeTF"
      },
      "source": [
        "import csv\n",
        "import numpy as np\n",
        "\n",
        "with open('DataSetFiltradoCortado.csv', newline='') as f:\n",
        "    reader = csv.reader(f)\n",
        "    data = list(reader)\n",
        "for i in range(0,len(data)):\n",
        "  for j in range(0, len(data[i])):\n",
        "    if(data[i][j] == ''):\n",
        "        data[i][j] = '0' \n",
        "    data[i][j] = float(data[i][j])\n",
        "\n",
        "data_normalized_chosen, maxAxis_chosen = normalize(data)\n",
        "data_normalized_chosen = data_normalized_chosen[0:2000]\n",
        "\n",
        "data_training_chosen,data_test_chosen = data_part(data_normalized_chosen, 0.9,0.1)\n"
      ],
      "execution_count": 227,
      "outputs": []
    },
    {
      "cell_type": "markdown",
      "metadata": {
        "id": "RJDIQTg3IbyN"
      },
      "source": [
        "##K-means"
      ]
    },
    {
      "cell_type": "markdown",
      "metadata": {
        "id": "lIDZz5HgyfsP"
      },
      "source": [
        "###Implementação KMeans"
      ]
    },
    {
      "cell_type": "code",
      "metadata": {
        "id": "h4dnxEJIOcmJ"
      },
      "source": [
        "def menorDist(centros, p):\n",
        "    min = [0,dist(p,centros[0])]\n",
        "    for i in range(1,len(centros)):\n",
        "        disti = dist(p,centros[i])\n",
        "        if(min[1] > disti):\n",
        "            min = [i, disti]\n",
        "    return min[0]"
      ],
      "execution_count": 228,
      "outputs": []
    },
    {
      "cell_type": "markdown",
      "metadata": {
        "id": "WBwBxAp9UnP2"
      },
      "source": [
        "Programa para identificar o novo centro no método fazendo as médias dos clusters dados."
      ]
    },
    {
      "cell_type": "code",
      "metadata": {
        "id": "kpvxwy6NVXEB"
      },
      "source": [
        "def novoCentroMetodo(pontos):\n",
        "  n = len(pontos)\n",
        "  centro = np.array([0.0 for i in range(len(pontos[0]))])\n",
        "  for i in range(0, n):\n",
        "      centro += pontos[i]\n",
        "  if n == 0:\n",
        "    return np.array([0.0 for i in range(len(pontos[0]))])\n",
        "  return centro/n"
      ],
      "execution_count": 229,
      "outputs": []
    },
    {
      "cell_type": "markdown",
      "metadata": {
        "id": "zzS-joq4xaA8"
      },
      "source": [
        "####Inicialização\n",
        "\n",
        "Foram implementadas 3 formas diferentes de inicialização. \n",
        "\n",
        "A primeira random_dist faz a inicialização utilizando pontos aleatorios com probabilidade ponderada proporcional à distancia do ponto(quanto maior a distância maior a probabilidade)\n",
        "\n",
        "A segunda função random_dist_selected que é a que escolhemos utilizar efetivamente no algoritmo faz a mesma coisa da função anterior, porém são considerados apenas 20% dos pontos, sendo esses os pontos mais provaveis. E ainda assim mantendo a probabilidade proporcional à distancia.\n",
        "\n",
        "A terceira função max_dist é a mais elementar, ela simplismente define os pontos de inicialização tomando os pontos mais distantes.\n"
      ]
    },
    {
      "cell_type": "code",
      "metadata": {
        "id": "Oo-oaG2e1JUk"
      },
      "source": [
        "def random_dist(p, data):\n",
        "    d = np.array([dist(p, i) for i in data])\n",
        "    s = d.sum()\n",
        "    p = [i/s for i in d]\n",
        "    rand = np.random.random()\n",
        "    r = 0\n",
        "    for i in range(len(p)):\n",
        "        r+=p[i]\n",
        "        if r >= rand:\n",
        "            return data[i]\n",
        "    return -1"
      ],
      "execution_count": 230,
      "outputs": []
    },
    {
      "cell_type": "code",
      "metadata": {
        "id": "_Uqxvq17FXbo"
      },
      "source": [
        "def random_dist_selected(p, data):\n",
        "    npontos = int(len(data)*0.2)\n",
        "    d = np.array([dist(p, i) for i in data])\n",
        "    idxs = []\n",
        "    dists = []\n",
        "    for i in range(npontos):\n",
        "        m = max(d)\n",
        "        id = list(d).index(m)\n",
        "        d[id] = -1\n",
        "        idxs.append(id)\n",
        "        dists.append(m)\n",
        "\n",
        "    s = sum(dists)\n",
        "    p = [i/s for i in dists]\n",
        "    rand = np.random.random()\n",
        "    r = 0\n",
        "    for i in range(len(p)):\n",
        "        r+=p[i]\n",
        "        if r >= rand:\n",
        "            return data[idxs[i]]\n",
        "    return -1"
      ],
      "execution_count": 231,
      "outputs": []
    },
    {
      "cell_type": "code",
      "metadata": {
        "id": "HCblQkJ6OOjl"
      },
      "source": [
        "def max_dist(p, data):\n",
        "    d_max = 0\n",
        "    p_end = p\n",
        "    for i in range(len(data)):\n",
        "        d = dist(p, data[i])\n",
        "        if d >= d_max:\n",
        "            d_max = d\n",
        "            p_end = data[i]\n",
        "    return p_end"
      ],
      "execution_count": 232,
      "outputs": []
    },
    {
      "cell_type": "code",
      "metadata": {
        "id": "LBo-luJ41Nfh"
      },
      "source": [
        "def find_init(data, k):\n",
        "    ans = []\n",
        "    idx=np.random.randint(len(data))\n",
        "    p1 = data[idx]\n",
        "    ans.append(p1)\n",
        "    for i in range(k-1):\n",
        "        center = novoCentroMetodo(ans)\n",
        "        #ans.append(random_dist(center, data) )  \n",
        "        ans.append(random_dist_selected(center, data) )  \n",
        "        #ans.append(max_dist(center, data) )\n",
        "\n",
        "\n",
        "    return np.array(ans)"
      ],
      "execution_count": 233,
      "outputs": []
    },
    {
      "cell_type": "markdown",
      "metadata": {
        "id": "vZ_BlhzAxpLI"
      },
      "source": [
        "####KMeans principal"
      ]
    },
    {
      "cell_type": "code",
      "metadata": {
        "id": "MnkACON5Gj8A"
      },
      "source": [
        "def kMeans(data, k):\n",
        "  dim = len(data)\n",
        "  n = len(data)\n",
        "  centros = find_init(data, k)\n",
        "  c_aux = copy.deepcopy(centros[:])\n",
        "  change = 1\n",
        "  clusters = [[] for i in range(k)]\n",
        "  novoCentro = 0\n",
        "  while(change):\n",
        "      change = 0\n",
        "      clusters = [[] for i in range(k)]\n",
        "      for i in range(0,n):\n",
        "          cluster = menorDist(centros,data[i])\n",
        "          clusters[cluster].append(data[i].tolist())\n",
        "      for i in range(0, k):\n",
        "          novoCentro = novoCentroMetodo(clusters[i])\n",
        "          if(not np.array_equal(centros[i], novoCentro)):\n",
        "              centros[i] = novoCentro\n",
        "              change = 1\n",
        "  return clusters, centros, c_aux"
      ],
      "execution_count": 234,
      "outputs": []
    },
    {
      "cell_type": "markdown",
      "metadata": {
        "id": "OWO288LhrojL"
      },
      "source": [
        "###Método do cotovelo\n",
        "Nessa etapa foi utilizado o método do cotovelo para se estimar o numero k de clusters a se utilizar na execução do algoritmo."
      ]
    },
    {
      "cell_type": "code",
      "metadata": {
        "id": "_LdbE76EUmNY"
      },
      "source": [
        "def erro_acumulado(pts, centers):\n",
        "  s = 0\n",
        "  for i in range(len(pts)):\n",
        "    for j in range(len(pts[i])):\n",
        "      s+=dist(centers[i], pts[i][j])\n",
        "  return s\n",
        "  "
      ],
      "execution_count": 235,
      "outputs": []
    },
    {
      "cell_type": "code",
      "metadata": {
        "id": "LNefroGvXU6S"
      },
      "source": [
        "def metodo_cotovelo_enunciado():\n",
        "  list_erros=[]\n",
        "  for i in range(1,10):\n",
        "    result, centers, c_aux = kMeans(data_training_enun, i)\n",
        "    list_erros.append((i, erro_acumulado(result, centers)))\n",
        "  \n",
        "  plt.scatter(*zip(*list_erros))\n",
        "  plt.plot(*zip(*list_erros))\n",
        "  plt.show()"
      ],
      "execution_count": 236,
      "outputs": []
    },
    {
      "cell_type": "markdown",
      "metadata": {
        "id": "10V2hjNHVLoC"
      },
      "source": [
        "Usando o método do cotovelo com os dados do enunciado."
      ]
    },
    {
      "cell_type": "code",
      "metadata": {
        "colab": {
          "base_uri": "https://localhost:8080/",
          "height": 0
        },
        "id": "6pU851Ui4JoI",
        "outputId": "74267e3f-f624-4416-c339-607c896324c7"
      },
      "source": [
        "metodo_cotovelo_enunciado()"
      ],
      "execution_count": 237,
      "outputs": [
        {
          "output_type": "display_data",
          "data": {
            "image/png": "[encoded data removed]",
            "text/plain": [
              "<Figure size 432x288 with 1 Axes>"
            ]
          },
          "metadata": {
            "tags": [],
            "needs_background": "light"
          }
        }
      ]
    },
    {
      "cell_type": "markdown",
      "metadata": {
        "id": "Ss6ZVqHLrOLA"
      },
      "source": [
        "###KMeans dataset enunciado\n",
        "Nessa etapa foi feito o treinamento utilizando o dataset separado. E k=3; valor que foi adotado através do método do cotovelo. Além disso é apresentado em preto os pontos de inicialização e em amarelo os pontos centrais dos clusters."
      ]
    },
    {
      "cell_type": "code",
      "metadata": {
        "id": "82eWw3qie10m"
      },
      "source": [
        "def kmeans_ds_enun():\n",
        "  result1, centers1, c_aux1 = kMeans(data_training_enun, 3)\n",
        "  for i in range(0,len(result1)):\n",
        "    result1[i] = unnormalize(result1[i],maxAxis_enun)\n",
        "  centers1 = unnormalize(centers1,maxAxis_enun)\n",
        "  c_aux1 = unnormalize(c_aux1,maxAxis_enun)\n",
        "  plotClusters(result1)\n",
        "  for i in range(3):\n",
        "    plt.scatter(c_aux1[i][0], c_aux1[i][1], color = 'black')\n",
        "    plt.scatter(centers1[i][0], centers1[i][1], color = 'yellow')\n",
        "  plt.show()\n",
        "  return centers1"
      ],
      "execution_count": 238,
      "outputs": []
    },
    {
      "cell_type": "code",
      "metadata": {
        "colab": {
          "base_uri": "https://localhost:8080/",
          "height": 0
        },
        "id": "eGY2A4TyUhCo",
        "outputId": "8331874c-fcb0-4915-a63f-f3d8850a702a"
      },
      "source": [
        "centers1=kmeans_ds_enun()"
      ],
      "execution_count": 239,
      "outputs": [
        {
          "output_type": "display_data",
          "data": {
            "image/png": "[encoded data removed]",
            "text/plain": [
              "<Figure size 432x288 with 1 Axes>"
            ]
          },
          "metadata": {
            "tags": [],
            "needs_background": "light"
          }
        }
      ]
    },
    {
      "cell_type": "markdown",
      "metadata": {
        "id": "W-N-WsEHryeJ"
      },
      "source": [
        "###KMeans dataset escolhido"
      ]
    },
    {
      "cell_type": "markdown",
      "metadata": {
        "id": "pE9Qv3UK6alJ"
      },
      "source": [
        "####Metodo do cotovelo dataset escolhido"
      ]
    },
    {
      "cell_type": "code",
      "metadata": {
        "colab": {
          "base_uri": "https://localhost:8080/",
          "height": 0
        },
        "id": "hJ5sQHsTlzlw",
        "outputId": "f0d98f03-d4e3-41cf-e565-83a81dcb490a"
      },
      "source": [
        "def metodo_cotovelo_escolhido():\n",
        "  list_erros=[]\n",
        "  for i in range(1,10):\n",
        "    result, centers, c_aux = kMeans(data_training_chosen, i)\n",
        "    list_erros.append((i, erro_acumulado(result, centers)))\n",
        "  \n",
        "  plt.scatter(*zip(*list_erros))\n",
        "  plt.plot(*zip(*list_erros))\n",
        "  plt.show()\n",
        "\n",
        "metodo_cotovelo_escolhido()"
      ],
      "execution_count": 240,
      "outputs": [
        {
          "output_type": "display_data",
          "data": {
            "image/png": "[encoded data removed]",
            "text/plain": [
              "<Figure size 432x288 with 1 Axes>"
            ]
          },
          "metadata": {
            "tags": [],
            "needs_background": "light"
          }
        }
      ]
    },
    {
      "cell_type": "markdown",
      "metadata": {
        "id": "gqYJ3ZOO_N-S"
      },
      "source": [
        "####Executando KMeans no dataset escolhido\n"
      ]
    },
    {
      "cell_type": "code",
      "metadata": {
        "id": "41E91msVokgc"
      },
      "source": [
        "def histograma(result):\n",
        "  histograma = []\n",
        "  for i in range(0,len(result)):\n",
        "    for j in range(0,len(result[i])):\n",
        "      histograma.append(i)\n",
        "  plt.hist(histograma)\n",
        "  plt.show()"
      ],
      "execution_count": 241,
      "outputs": []
    },
    {
      "cell_type": "code",
      "metadata": {
        "id": "kFUS3HM8_NPw"
      },
      "source": [
        "def kmeans_ds_chosen():\n",
        "  result2, centers2, c_aux2 = kMeans(data_training_chosen, 4)\n",
        "  centers2 = unnormalize(centers2,maxAxis_chosen)\n",
        "  histograma(result2)\n",
        "  return centers2"
      ],
      "execution_count": 242,
      "outputs": []
    },
    {
      "cell_type": "code",
      "metadata": {
        "id": "zSaqXveCAYU6",
        "colab": {
          "base_uri": "https://localhost:8080/",
          "height": 0
        },
        "outputId": "59c799a5-064b-49db-ebb4-279032769beb"
      },
      "source": [
        "centers2 = kmeans_ds_chosen()"
      ],
      "execution_count": 243,
      "outputs": [
        {
          "output_type": "display_data",
          "data": {
            "image/png": "[encoded data removed]",
            "text/plain": [
              "<Figure size 432x288 with 1 Axes>"
            ]
          },
          "metadata": {
            "tags": [],
            "needs_background": "light"
          }
        }
      ]
    },
    {
      "cell_type": "markdown",
      "metadata": {
        "id": "rrzTUdLm09KJ"
      },
      "source": [
        "##DBSCAN\n"
      ]
    },
    {
      "cell_type": "markdown",
      "metadata": {
        "id": "wIQNTXZnElkV"
      },
      "source": [
        "###A implementação do algoritmo foi feita de modo a buscar os core points, border points e outiliers. Tendo estes na função dbscan, foi feita a clusterização na função db_clustering. que tendo os tipos de pontos atribui os seus respectivos clusters.\n",
        "\n"
      ]
    },
    {
      "cell_type": "code",
      "metadata": {
        "id": "v0oeIDyMRTQM"
      },
      "source": [
        "import queue"
      ],
      "execution_count": 244,
      "outputs": []
    },
    {
      "cell_type": "code",
      "metadata": {
        "id": "YvJiJAa1RW75"
      },
      "source": [
        "def db_clustering(l, inran):\n",
        "  core = -1\n",
        "  border = -2\n",
        "  outlier = -3\n",
        "  rots = []\n",
        "  aux = []\n",
        "  for i in range(len(inran) ):\n",
        "    if i in l[0]:\n",
        "      rots.append(core)\n",
        "    elif i in l[1]:\n",
        "      rots.append(border)\n",
        "    elif i in l[2]:\n",
        "      rots.append(outlier)\n",
        "\n",
        "  cl = 0\n",
        "  for i in range(len(rots)):\n",
        "    q = queue.Queue()\n",
        "    if (rots[i] == core):\n",
        "      aux.append([])\n",
        "      rots[i] = cl\n",
        "      for x in inran[i]:\n",
        "        if(rots[x]==core):\n",
        "          q.put(x)\n",
        "          rots[x]=cl\n",
        "          aux[-1].append(x)\n",
        "        elif(rots[x]==border):\n",
        "          rots[x]=cl\n",
        "      while not q.empty():\n",
        "        neighbors = inran[q.get()]\n",
        "        for y in neighbors:\n",
        "          if (rots[y]==core):\n",
        "            rots[y]=cl\n",
        "            q.put(y)\n",
        "            aux[-1].append(y)\n",
        "          if (rots[y]==border):\n",
        "            rots[y]=cl            \n",
        "      cl=cl+1\n",
        "\n",
        "  for i in range(len(rots)):\n",
        "    if rots[i] == outlier:\n",
        "      rots[i] = cl\n",
        "\n",
        "  return rots, aux"
      ],
      "execution_count": 245,
      "outputs": []
    },
    {
      "cell_type": "code",
      "metadata": {
        "id": "5rNU8Y0O08zZ"
      },
      "source": [
        "def dbscan(data, eps, M):\n",
        "  core = []\n",
        "  border = []\n",
        "  outlier = []\n",
        "  dists = []\n",
        "  for i in range(len(data)):\n",
        "    aux = []\n",
        "    for j in range(len(data)):\n",
        "      aux.append(dist(data[i], data[j]))\n",
        "    dists.append(aux)\n",
        "  \n",
        "  inran = []\n",
        "  for i in range(len(data)):\n",
        "    pts = []\n",
        "    for j in range(len(data)):\n",
        "      if dists[i][j] <= eps:\n",
        "        pts.append(j)\n",
        "    if len(pts) >= M:\n",
        "      core.append(i)\n",
        "    inran.append(pts)\n",
        "\n",
        "  for i in range(len(inran)):\n",
        "    for j in range(len(inran[i])):\n",
        "      if i not in core and inran[i][j] in core:\n",
        "        border.append(i)\n",
        "        break\n",
        "\n",
        "  for i in range(len(inran)):\n",
        "    if i not in core and i not in border:\n",
        "      outlier.append(i)\n",
        "\n",
        "  r, cs = db_clustering([core,border,outlier], inran)\n",
        "  z = max(r)\n",
        "\n",
        "  ans = [[] for i in range(z+1)]\n",
        "\n",
        "  for i in range(len(r)):\n",
        "    ans[r[i]].append(data[i])\n",
        "\n",
        "  for i in range(len(cs)):\n",
        "    for j in range(len(cs[i])):\n",
        "      cs[i][j] = data[cs[i][j]]\n",
        "\n",
        "  return ans, cs, eps"
      ],
      "execution_count": 246,
      "outputs": []
    },
    {
      "cell_type": "markdown",
      "metadata": {
        "id": "k3jV5s8rF5Xv"
      },
      "source": [
        "###Utilizando dbscan no dataset dado no enunciado\n",
        "A cor preta representa os outliers e as demais cores os clusters."
      ]
    },
    {
      "cell_type": "code",
      "metadata": {
        "id": "k0_3WhnNRi_5",
        "colab": {
          "base_uri": "https://localhost:8080/",
          "height": 0
        },
        "outputId": "5c34fe47-513c-425d-d99a-b47041550e35"
      },
      "source": [
        "clusters_enun_db, cores_enun, eps_enun = dbscan(data_training_enun, 0.1,30)\n",
        "\n",
        "plotClusters(clusters_enun_db)\n",
        "\n",
        "plt.show()"
      ],
      "execution_count": 247,
      "outputs": [
        {
          "output_type": "display_data",
          "data": {
            "image/png": "[encoded data removed]",
            "text/plain": [
              "<Figure size 432x288 with 1 Axes>"
            ]
          },
          "metadata": {
            "tags": [],
            "needs_background": "light"
          }
        }
      ]
    },
    {
      "cell_type": "markdown",
      "metadata": {
        "id": "VpXowruoG97A"
      },
      "source": [
        "###Utilizando dbscan no dataset escolhido"
      ]
    },
    {
      "cell_type": "code",
      "metadata": {
        "id": "6hv697hHAY8w"
      },
      "source": [
        "def main2():\n",
        "  list_erros=[]\n",
        "  for i in range(1,10):\n",
        "    for j in range(1,10):\n",
        "      result = dbscan(data_normalized_chosen, 0.1*i, 10*j)\n",
        "      print(i,j,len(result) )\n",
        "      print(\"------------------\")\n",
        "#main2()"
      ],
      "execution_count": 248,
      "outputs": []
    },
    {
      "cell_type": "code",
      "metadata": {
        "id": "gh_lfaHjax6p"
      },
      "source": [
        "clusters_chosen, cores_chosen, eps_chosen = dbscan(data_training_chosen, 0.2, 50)"
      ],
      "execution_count": 249,
      "outputs": []
    },
    {
      "cell_type": "code",
      "metadata": {
        "colab": {
          "base_uri": "https://localhost:8080/",
          "height": 0
        },
        "id": "mflDsCMPbdPb",
        "outputId": "4fd0c6f0-249c-4b69-8471-cb7171b0c953"
      },
      "source": [
        "histograma(clusters_chosen)"
      ],
      "execution_count": 250,
      "outputs": [
        {
          "output_type": "display_data",
          "data": {
            "image/png": "[encoded data removed]",
            "text/plain": [
              "<Figure size 432x288 with 1 Axes>"
            ]
          },
          "metadata": {
            "tags": [],
            "needs_background": "light"
          }
        }
      ]
    },
    {
      "cell_type": "markdown",
      "metadata": {
        "id": "bDk9CfSVkeAe"
      },
      "source": [
        "##PCA"
      ]
    },
    {
      "cell_type": "markdown",
      "metadata": {
        "id": "oOGvkalyWFi1"
      },
      "source": [
        "###Aplicando PCA no dataset escolhido\n",
        "\n",
        "Usamos o PCA para melhorar o trabalho do treinamento e analisarmos seus impactos. Para isso, vamos colocar os dados em 2D e 5D. "
      ]
    },
    {
      "cell_type": "code",
      "metadata": {
        "id": "HM7Xf7H_fhWQ"
      },
      "source": [
        "from sklearn.decomposition import PCA\n",
        "\n",
        "pca = PCA(n_components=2)\n",
        "out2d = pca.fit_transform(data_training_chosen)\n",
        "out2d_test = pca.fit_transform(data_test_chosen)"
      ],
      "execution_count": 251,
      "outputs": []
    },
    {
      "cell_type": "code",
      "metadata": {
        "id": "kM7aWS87W4jn"
      },
      "source": [
        "pca = PCA(n_components=5)\n",
        "out5d = pca.fit_transform(data_training_chosen)\n",
        "out5d_test = pca.fit_transform(data_test_chosen)"
      ],
      "execution_count": 252,
      "outputs": []
    },
    {
      "cell_type": "markdown",
      "metadata": {
        "id": "00Oas1S6bvsE"
      },
      "source": [
        "###Aplicando PCA para 2D"
      ]
    },
    {
      "cell_type": "code",
      "metadata": {
        "id": "Lx3SQq-Dn4Ks",
        "colab": {
          "base_uri": "https://localhost:8080/",
          "height": 0
        },
        "outputId": "ef90ec14-03b0-46aa-c7c1-b4babc66fe0a"
      },
      "source": [
        "def main3():\n",
        "  list_erros=[]\n",
        "  for i in range(1,10):\n",
        "    result, centers, c_aux = kMeans(out2d, i)\n",
        "    list_erros.append((i, erro_acumulado(result, centers)))\n",
        "  \n",
        "  print(list_erros)\n",
        "  plt.scatter(*zip(*list_erros))\n",
        "  plt.plot(*zip(*list_erros))\n",
        "  plt.show()\n",
        "\n",
        "main3()"
      ],
      "execution_count": 253,
      "outputs": [
        {
          "output_type": "stream",
          "text": [
            "[(1, 993.5037192490774), (2, 522.8443143455611), (3, 438.78671670242176), (4, 304.83956679255004), (5, 296.2026154479056), (6, 263.5610923038089), (7, 248.0598615146159), (8, 228.72733010977169), (9, 211.7388710509105)]\n"
          ],
          "name": "stdout"
        },
        {
          "output_type": "display_data",
          "data": {
            "image/png": "[encoded data removed]",
            "text/plain": [
              "<Figure size 432x288 with 1 Axes>"
            ]
          },
          "metadata": {
            "tags": [],
            "needs_background": "light"
          }
        }
      ]
    },
    {
      "cell_type": "code",
      "metadata": {
        "colab": {
          "base_uri": "https://localhost:8080/",
          "height": 0
        },
        "id": "39VPxVuiq1ry",
        "outputId": "1762314b-b738-45f6-8585-a56f80a69a11"
      },
      "source": [
        "def main3(k):\n",
        "  result, centers_PCA_2D, c_aux = kMeans(out2d, k)\n",
        "  plotClusters(result)\n",
        "  for i in range(k):\n",
        "    plt.scatter(c_aux[i][0], c_aux[i][1], color = 'orange')\n",
        "    plt.scatter(centers_PCA_2D[i][0], centers_PCA_2D[i][1], color = 'yellow')\n",
        "  plt.show()\n",
        "  return centers_PCA_2D\n",
        "\n",
        "centers_PCA_2D = main3(4)"
      ],
      "execution_count": 254,
      "outputs": [
        {
          "output_type": "display_data",
          "data": {
            "image/png": "[encoded data removed]",
            "text/plain": [
              "<Figure size 432x288 with 1 Axes>"
            ]
          },
          "metadata": {
            "tags": [],
            "needs_background": "light"
          }
        }
      ]
    },
    {
      "cell_type": "code",
      "metadata": {
        "id": "VfzbhISiroXb"
      },
      "source": [
        "clusters_chosen_pca2, cores_chosen_pca2, eps_chosen_pca2 = dbscan(out2d, 0.08,20)"
      ],
      "execution_count": 255,
      "outputs": []
    },
    {
      "cell_type": "code",
      "metadata": {
        "colab": {
          "base_uri": "https://localhost:8080/",
          "height": 0
        },
        "id": "h6m_BLexxsmz",
        "outputId": "177500de-e565-48bc-cb47-e7342a9068a7"
      },
      "source": [
        "plotClusters(clusters_chosen_pca2)\n"
      ],
      "execution_count": 256,
      "outputs": [
        {
          "output_type": "display_data",
          "data": {
            "image/png": "[encoded data removed]",
            "text/plain": [
              "<Figure size 432x288 with 1 Axes>"
            ]
          },
          "metadata": {
            "tags": [],
            "needs_background": "light"
          }
        }
      ]
    },
    {
      "cell_type": "markdown",
      "metadata": {
        "id": "QiRevw3VymrE"
      },
      "source": [
        "###PCA alternativo kmeans 4D"
      ]
    },
    {
      "cell_type": "code",
      "metadata": {
        "colab": {
          "base_uri": "https://localhost:8080/",
          "height": 0
        },
        "id": "sDECr1mrYa4C",
        "outputId": "d9132df2-b410-4533-d9dc-042062d1f0b8"
      },
      "source": [
        "def kmeans_chosen_PCA(k):\n",
        "  result2, centers2, c_aux2 = kMeans(out5d, k)\n",
        "  histograma(result2)\n",
        "  return centers2\n",
        "\n",
        "centers_PCA_5D_k4 = kmeans_chosen_PCA(4)"
      ],
      "execution_count": 257,
      "outputs": [
        {
          "output_type": "display_data",
          "data": {
            "image/png": "[encoded data removed]",
            "text/plain": [
              "<Figure size 432x288 with 1 Axes>"
            ]
          },
          "metadata": {
            "tags": [],
            "needs_background": "light"
          }
        }
      ]
    },
    {
      "cell_type": "markdown",
      "metadata": {
        "id": "yS4cGq7FdCVH"
      },
      "source": [
        "###Aplicando PCA para 5D"
      ]
    },
    {
      "cell_type": "code",
      "metadata": {
        "id": "jEwjfE_cdSUz"
      },
      "source": [
        "def acharEpsM5D():\n",
        "  list_erros=[]\n",
        "  for i in range(1,10):\n",
        "    for j in range(1,10):\n",
        "      result, a, b = dbscan(out5d, 0.05*i, 10*j)\n",
        "      n = len(result)\n",
        "      print(i,j,n,len(result[n-1]))\n",
        "      print(\"------------------\")\n",
        "#acharEpsM5D()"
      ],
      "execution_count": 258,
      "outputs": []
    },
    {
      "cell_type": "code",
      "metadata": {
        "colab": {
          "base_uri": "https://localhost:8080/",
          "height": 0
        },
        "id": "LxhfUP-eaN3Q",
        "outputId": "59460361-ecd6-4bd9-ef30-de8e25975296"
      },
      "source": [
        "centers_PCA_5D_k5 = kmeans_chosen_PCA(5)"
      ],
      "execution_count": 259,
      "outputs": [
        {
          "output_type": "display_data",
          "data": {
            "image/png": "[encoded data removed]",
            "text/plain": [
              "<Figure size 432x288 with 1 Axes>"
            ]
          },
          "metadata": {
            "tags": [],
            "needs_background": "light"
          }
        }
      ]
    },
    {
      "cell_type": "code",
      "metadata": {
        "id": "2z4FAz1tywlu"
      },
      "source": [
        "clusters_chosen_pca5, cores_chosen_pca5, eps_chosen_pca5 = dbscan(out5d, 0.25,70)"
      ],
      "execution_count": 260,
      "outputs": []
    },
    {
      "cell_type": "code",
      "metadata": {
        "colab": {
          "base_uri": "https://localhost:8080/",
          "height": 0
        },
        "id": "G8F_hbgvzeWd",
        "outputId": "e955224d-1709-48de-8150-666129430fdc"
      },
      "source": [
        "histograma(clusters_chosen_pca5)"
      ],
      "execution_count": 261,
      "outputs": [
        {
          "output_type": "display_data",
          "data": {
            "image/png": "[encoded data removed]",
            "text/plain": [
              "<Figure size 432x288 with 1 Axes>"
            ]
          },
          "metadata": {
            "tags": [],
            "needs_background": "light"
          }
        }
      ]
    },
    {
      "cell_type": "markdown",
      "metadata": {
        "id": "zdbhygt9gnfr"
      },
      "source": [
        "##Testes dos treinamentos"
      ]
    },
    {
      "cell_type": "markdown",
      "metadata": {
        "id": "FGaJkqL6gvr1"
      },
      "source": [
        "###KMeans dataSet enunciado"
      ]
    },
    {
      "cell_type": "code",
      "metadata": {
        "id": "2LzIXMyRiAGN"
      },
      "source": [
        "def testKMeans2D(centers, pontos, maxAx):\n",
        "  clustersPlot = []\n",
        "  centers.transpose()\n",
        "  cent_N = centers/maxAx\n",
        "  cent_N.transpose()\n",
        "  centers.transpose()\n",
        "  for i in range(0, len(cent_N)):\n",
        "    clustersPlot.append([])\n",
        "  for i in range(0,len(pontos)):\n",
        "    clustersPlot[menorDist(cent_N, pontos[i])].append(pontos[i])\n",
        "  return clustersPlot"
      ],
      "execution_count": 262,
      "outputs": []
    },
    {
      "cell_type": "code",
      "metadata": {
        "id": "_2HP5Mfwtr8f",
        "colab": {
          "base_uri": "https://localhost:8080/",
          "height": 0
        },
        "outputId": "052a8afe-7ac3-49df-c990-655fa4c2530a"
      },
      "source": [
        "plotClusters(testKMeans2D(centers1, data_test_enun, maxAxis_enun))\n",
        "plt.show()"
      ],
      "execution_count": 263,
      "outputs": [
        {
          "output_type": "display_data",
          "data": {
            "image/png": "[encoded data removed]",
            "text/plain": [
              "<Figure size 432x288 with 1 Axes>"
            ]
          },
          "metadata": {
            "tags": [],
            "needs_background": "light"
          }
        }
      ]
    },
    {
      "cell_type": "markdown",
      "metadata": {
        "id": "OKe3AM-ug07f"
      },
      "source": [
        "###KMeans dataSet escolhido"
      ]
    },
    {
      "cell_type": "code",
      "metadata": {
        "colab": {
          "base_uri": "https://localhost:8080/",
          "height": 0
        },
        "id": "gHbCjThPnA1I",
        "outputId": "07efd413-f6ba-4a4c-d93c-e2baf553026a"
      },
      "source": [
        "def testKMeansND(centers, pontos, maxAx):\n",
        "  clustersPlot = []\n",
        "  for i in range(0, len(centers)):\n",
        "    centers[i] = centers[i]/maxAx\n",
        "  cent_N = centers\n",
        "  for i in range(0, len(cent_N)):\n",
        "    clustersPlot.append([])\n",
        "  for i in range(0,len(pontos)):\n",
        "    #print(len(cent_N[0]), len(pontos[i]))\n",
        "    clustersPlot[menorDist(cent_N, pontos[i])].append(pontos[i])\n",
        "  return clustersPlot\n",
        "\n",
        "print(len(centers2[0]))\n",
        "print(len(data_test_chosen[0]))\n",
        "histograma(testKMeansND(centers2, data_test_chosen,maxAxis_chosen))"
      ],
      "execution_count": 264,
      "outputs": [
        {
          "output_type": "stream",
          "text": [
            "10\n",
            "10\n"
          ],
          "name": "stdout"
        },
        {
          "output_type": "display_data",
          "data": {
            "image/png": "[encoded data removed]",
            "text/plain": [
              "<Figure size 432x288 with 1 Axes>"
            ]
          },
          "metadata": {
            "tags": [],
            "needs_background": "light"
          }
        }
      ]
    },
    {
      "cell_type": "markdown",
      "metadata": {
        "id": "BoIWJYfTg6Zi"
      },
      "source": [
        "###KMeans escolhido com uso de PCA 2D e 5D"
      ]
    },
    {
      "cell_type": "code",
      "metadata": {
        "colab": {
          "base_uri": "https://localhost:8080/",
          "height": 0
        },
        "id": "I-8xQt1SIHHK",
        "outputId": "a4ccd044-d6e2-43fd-f90c-78b04736832f"
      },
      "source": [
        "plotClusters(testKMeans2D(centers_PCA_2D,out2d_test,[1,1]))\n",
        "plt.show()"
      ],
      "execution_count": 265,
      "outputs": [
        {
          "output_type": "display_data",
          "data": {
            "image/png": "[encoded data removed]",
            "text/plain": [
              "<Figure size 432x288 with 1 Axes>"
            ]
          },
          "metadata": {
            "tags": [],
            "needs_background": "light"
          }
        }
      ]
    },
    {
      "cell_type": "code",
      "metadata": {
        "colab": {
          "base_uri": "https://localhost:8080/",
          "height": 0
        },
        "id": "ic0UE_4jJhUQ",
        "outputId": "6fbd9325-8b8e-4828-aaad-4cfb9559ecaf"
      },
      "source": [
        "histograma(testKMeansND(centers_PCA_5D_k4, out5d_test, [1,1,1,1,1]))\n",
        "histograma(testKMeansND(centers_PCA_5D_k5, out5d_test, [1,1,1,1,1]))"
      ],
      "execution_count": 266,
      "outputs": [
        {
          "output_type": "display_data",
          "data": {
            "image/png": "[encoded data removed]",
            "text/plain": [
              "<Figure size 432x288 with 1 Axes>"
            ]
          },
          "metadata": {
            "tags": [],
            "needs_background": "light"
          }
        },
        {
          "output_type": "display_data",
          "data": {
            "image/png": "[encoded data removed]",
            "text/plain": [
              "<Figure size 432x288 with 1 Axes>"
            ]
          },
          "metadata": {
            "tags": [],
            "needs_background": "light"
          }
        }
      ]
    },
    {
      "cell_type": "markdown",
      "metadata": {
        "id": "fyQ6gZgfhHxd"
      },
      "source": [
        "###DBSCAN dataSet enunciado"
      ]
    },
    {
      "cell_type": "code",
      "metadata": {
        "id": "KpcpiGnjOhfs"
      },
      "source": [
        "def clusteringDBSCAN(centros, p, eps):\n",
        "    min = [0,3]\n",
        "    for i in range(len(centros)):\n",
        "      for j in range(len(centros[i])):\n",
        "        d = dist(p, centros[i][j])\n",
        "        if d < min[1]:\n",
        "          min = [i, d]\n",
        "    if(eps < min[1]):\n",
        "        return len(centros)\n",
        "    return min[0]"
      ],
      "execution_count": 267,
      "outputs": []
    },
    {
      "cell_type": "code",
      "metadata": {
        "id": "Xwgk3VRVcWEU"
      },
      "source": [
        "def testDBSCAN(cores, dataSet, eps):\n",
        "  clustersPlot = []\n",
        "  for i in range(0, 1 + len(cores)):\n",
        "    clustersPlot.append([])\n",
        "  for i in range(0,len(dataSet)):\n",
        "    clustersPlot[clusteringDBSCAN(cores, dataSet[i], eps)].append(dataSet[i])\n",
        "  return clustersPlot\n",
        "\n",
        "    "
      ],
      "execution_count": 268,
      "outputs": []
    },
    {
      "cell_type": "code",
      "metadata": {
        "id": "RlZWK53kf0ql",
        "colab": {
          "base_uri": "https://localhost:8080/",
          "height": 0
        },
        "outputId": "1226b812-2a1c-443e-d477-0fd76aa6425f"
      },
      "source": [
        "plotClusters(testDBSCAN(cores_enun, data_test_enun, eps_enun))"
      ],
      "execution_count": 269,
      "outputs": [
        {
          "output_type": "display_data",
          "data": {
            "image/png": "[encoded data removed]",
            "text/plain": [
              "<Figure size 432x288 with 1 Axes>"
            ]
          },
          "metadata": {
            "tags": [],
            "needs_background": "light"
          }
        }
      ]
    },
    {
      "cell_type": "markdown",
      "metadata": {
        "id": "R84uLU6YhOcQ"
      },
      "source": [
        "###DBSCAN dataSet escolhido"
      ]
    },
    {
      "cell_type": "code",
      "metadata": {
        "colab": {
          "base_uri": "https://localhost:8080/",
          "height": 0
        },
        "id": "3FJONX7nwaUK",
        "outputId": "973f1f28-c203-4096-cc81-a5aed757c4d4"
      },
      "source": [
        "histograma(testDBSCAN(cores_chosen, data_test_chosen, eps_chosen))"
      ],
      "execution_count": 270,
      "outputs": [
        {
          "output_type": "display_data",
          "data": {
            "image/png": "[encoded data removed]",
            "text/plain": [
              "<Figure size 432x288 with 1 Axes>"
            ]
          },
          "metadata": {
            "tags": [],
            "needs_background": "light"
          }
        }
      ]
    },
    {
      "cell_type": "markdown",
      "metadata": {
        "id": "SaStuIRmhTRm"
      },
      "source": [
        "###DBSCAN dataSet escolhido com uso de PCA 2D e 5D"
      ]
    },
    {
      "cell_type": "code",
      "metadata": {
        "colab": {
          "base_uri": "https://localhost:8080/",
          "height": 0
        },
        "id": "RVOuFDTixDtW",
        "outputId": "ea267a04-28ee-4766-9b72-aa114856d8c5"
      },
      "source": [
        "histograma(testDBSCAN(cores_chosen_pca2, out2d_test, eps_chosen_pca2))"
      ],
      "execution_count": 271,
      "outputs": [
        {
          "output_type": "display_data",
          "data": {
            "image/png": "[encoded data removed]",
            "text/plain": [
              "<Figure size 432x288 with 1 Axes>"
            ]
          },
          "metadata": {
            "tags": [],
            "needs_background": "light"
          }
        }
      ]
    },
    {
      "cell_type": "code",
      "metadata": {
        "colab": {
          "base_uri": "https://localhost:8080/",
          "height": 0
        },
        "id": "VBsGnoQo0v-g",
        "outputId": "6ca9d71b-8db2-49e1-b881-d5a06b7d890f"
      },
      "source": [
        "histograma(testDBSCAN(cores_chosen_pca5, out5d_test, eps_chosen_pca5))"
      ],
      "execution_count": 272,
      "outputs": [
        {
          "output_type": "display_data",
          "data": {
            "image/png": "[encoded data removed]",
            "text/plain": [
              "<Figure size 432x288 with 1 Axes>"
            ]
          },
          "metadata": {
            "tags": [],
            "needs_background": "light"
          }
        }
      ]
    },
    {
      "cell_type": "markdown",
      "metadata": {
        "id": "hZMbOgo41fki"
      },
      "source": [
        "##Discussão e análise"
      ]
    },
    {
      "cell_type": "markdown",
      "metadata": {
        "id": "RQ8r_if62EMW"
      },
      "source": [
        "***1 ) How/if normalization affected your results.***\n",
        "\n",
        "**R:** Supomos que todas as nossas features são de mesmo peso/importância, tanto no dataSet do enunciado quanto o escolhido. Além disso, nossos metodos em usam distância euclidiano, ou seja, os valores absulutos das features impactam drasticamente nosso modelo. Pensando nisso, features com escalas diferentes podem fazer com que as quais com maiores valors tenham maior importância/peso, assim nosso treinamento fica tendencioso para a tais fetures. Dessa forma, a normalização é fundamental, pois garantimos que as features possuam a mesma relevância no treinamento."
      ]
    },
    {
      "cell_type": "markdown",
      "metadata": {
        "id": "WAdEvWD8483g"
      },
      "source": [
        "***2) If the number of clusters achieved is good representatives of your data.***\n",
        "\n",
        "**R:** Primeiramente vamos falar do dataSet dado no trabalho. Nesse caso, é perceptível que 3 clusters é um bom valor. Ademais, usamos o método do cotovelo para validar em relação o K-means, e pelo método conseguimos ver que 3 de fato é bom. No DBSCAN com o dataSet dado, fomos mudando os parâmetros do método até encontrar uma boa divisão de clusters. Em relação o dataSet escolhido, também usamos o método do cotovelo para encontrar um bom k, usamos o k igual o 4, acreditamos que foi uma boa escolha, porque apesar do nosso dataSet estar com os pontos bem unidos, conseguimos visualizar uma divisão(principalmente usando o PCA para 2D) mais clara em 4 grupos. Em relação o uso do DBSCAN, escolhemos os parametros que tinham menos outliners e mais clusters possíveis, como nosso dataSet possui pontos bem unidos e bastantes outliners, nossos clusterizações com esse método se resumia a um único cluster ou inúmeros outliners e poucos clusterings. Apesar dessas adversidades, nosso DBSCAN conseguiu seperar de acordo com a desidade das regiões e separando os pontos mais isolados em outliner, não temos a resposta se foi uma boa clusterização, mas o método conseguiu encontrar clusters coerentes com o método.  "
      ]
    },
    {
      "cell_type": "markdown",
      "metadata": {
        "id": "UFG3JkEy95q2"
      },
      "source": [
        "***3)How/if the initialization of cluster centers affected the solution.***\n",
        "\n",
        "**R:** A inicialização pode afetar no tempo que leva para o treinamento convergir. É possível também que o treinamento fique preso em algum minimo local dependendo das inicializações. Como apresentado no inicio do notebook, no kmeans, testamos 3 metodos de inicialização e acabamos por optar pela inicialização que toma como mais provaveis os pontos mais distantes do centro atual e dando probabilidade 0 para pontos mais próximos. Fazendo assim com que sempre se escolha um ponto distante mas nem sempre o mais distante. O que acaba por reduzir o tempo de convergencia e a chance de o treinamento ficar preso em um minimo local. Vale lembrar também que existe o método de inicialização totalmente randomico onde são escolhidos k pontos aleatorios da amostra. Esse método é perigoso pois existe a chance de se escolher por exemplo dois pontos muito proximos de modo a fazer com que a clusterização não convirja para onde deveria.\n",
        "Quanto ao DBSCAN, não há muito a se comentar quanto à inicialização uma vez que não há muitas opções conhecidas além da estândar."
      ]
    },
    {
      "cell_type": "markdown",
      "metadata": {
        "id": "G8lzH_hsG7ho"
      },
      "source": [
        "***4)The advantages and disadvantages of each method.***\n",
        "\n",
        "**R:**\n",
        "\n",
        "**Vantagens kmeans:**\n",
        "\n",
        "-É mais eficiente que o dbscan em datasets grandes\n",
        "\n",
        "-A variação da densidade das amostras em determinados intervalos não afeta o algoritmo enquanto afeta bastante o dbscan\n",
        "\n",
        "**Vantagens dbscan:**\n",
        "\n",
        "-Ao contrário do kmeans, funciona bem em datasets com formas não convexas\n",
        "\n",
        "-Trata bem os outliers enquanto o kmeans apenas os inclui em algum cluster\n",
        "\n",
        "Vale ressaltar que o melhor método depende do tipo do problema. Embora possuam caracteristicas diferentes, não há um método absolutamente melhor que o outro. Como apresentado acima na lista de vantagens, o DBSCAN trabalha observando a densidade de pontos enquanto que o kmeans não leva isso em conta, o que inclusive pode ser bom em alguns datasets. Mas por outro lado se existe algum tipo de dado com cluster de representação não convexa no dataset, o DBSCAN apresenta desempenho muito superior.\n",
        "\n",
        "Observando o dataset por nós escolhido, como não sabemos ao certo o formato de clusterização esperado para nossos dados, não conseguimos afirmar que o kmeans ou o DBSCAN nos apresentou um resultado mais próximo à realidade dos dados. Mas o que podemos observar principalmente relativo à redução de dimensionalidade para 2D é que o tipo de dado que estava sendo tratado possuía pontos de alta densidade e varios outliers. O que pode ser um indicio de que o dataset se adeque melhor ao DBSCAN uma vez que esse faz sua busca com base na densidade e da um tratamento específico aos outliers, coisas que o kmeans não faz. \n",
        "\n",
        "Com o dataset escolhido, pudemos verificar bem as propriedades dos dois métodos durante o processo de clusterização nos trazendo maior compreensão das situações para as quais cada um se aplica."
      ]
    },
    {
      "cell_type": "markdown",
      "metadata": {
        "id": "6vUQCWAFJ_M7"
      },
      "source": [
        "***5)How dimensionality reduction affected your results***\n",
        "\n",
        "**R:** Como o dataset por nós escolhido para a segunda parte possuia bastante dimensões, a redução de dimensionalidade se mostrou como uma parte muito importante do desenvolvimento do nosso trabalho. Primeiramente enquanto realizando os treinamentos sem redução de dimensionalidade, para se fazer as comparações, optamos por fazer o histograma dos clusters de treinamento e comparar com o histograma dos pontos de teste após classifica-los nos seus respectivos clusters e assumindo uma distribuição semelhante no conjunto de treinamento e de teste era esperado que os histogramas possuissem formas semelhantes, o que pode ser observado nos exemplos ao longo do notebook. Após os testes feitos sem a redução de dimensionalidade, fizemos novos testes reduzindo as features para um espaço com cinco dimensões e com duas dimensões. Quando feita para cinco dimensões, ainda se tornou necessário a vizualização através do histograma e não através de uma representação geométrica. Mas quando feita a redução para duas dimensões, foi possível se observar de forma muito mais clara a natureza dos dados. Um ponto interessante a se observar é que a mudança de dimensionalidade para a execução do kmeans manteve o mesmo parametro k e apresentou um grafico de cotovelo bem semelhante se não identico. Enquanto que a redução de dimensão para a execução do DBSCAN nos fez fazer algumas mudanças nos valores de epslon e de M. A redução de dimensionalidade além de permitir uma sintetização e simplificação dos dados, também atua de modo a reduzir o tempo de processamento para se executar os treinamentos e os testes, uma vez que se é possível reduzir significativamente o tamanho dos dados de entrada."
      ]
    },
    {
      "cell_type": "markdown",
      "metadata": {
        "id": "KADb1j83_nvE"
      },
      "source": [
        "##Divisão do trabalho"
      ]
    },
    {
      "cell_type": "markdown",
      "metadata": {
        "id": "UjdlBC3d_rP6"
      },
      "source": [
        "Basicamente o Gustavo fez a parte com KMeans e testes, e o Hitalo trabalhou com o DBSCAN. Entretanto, boa parte do trabalho oi feito em conjunto em calls e um sabia como implementar a parte do outro para se ajudarem. Ao decorrer do trabalho foi feita várias funções auxiliares, as quais não lembramos quão cada um contribuiu para atribuir quem fez tais funções."
      ]
    }
  ]
}